{
 "cells": [
  {
   "cell_type": "markdown",
   "id": "8ffde30e-d497-457f-ae65-33d3dd9ca73c",
   "metadata": {},
   "source": [
    "# Building an Artificial Neural Network"
   ]
  },
  {
   "cell_type": "markdown",
   "id": "233c177f-7631-4514-a2ac-bc4f1b23fd77",
   "metadata": {},
   "source": [
    "## Step 1: Defining the Neuron Class\n",
    "An artificial neuron is a computational unit that simulates a biological neuron by applying mathematical functions to inputs. It consists of weights, biases, and activation functions."
   ]
  },
  {
   "cell_type": "markdown",
   "id": "e2f904f6-fda6-4a73-a742-44b5c505cc6a",
   "metadata": {},
   "source": [
    "### Code Breakdown:"
   ]
  },
  {
   "cell_type": "code",
   "execution_count": 8,
   "id": "6f9e68b3-32e6-447c-aee1-ee1d6851b13e",
   "metadata": {},
   "outputs": [],
   "source": [
    "import numpy as np\n",
    "import matplotlib.pyplot as plt"
   ]
  },
  {
   "cell_type": "markdown",
   "id": "68aa710e-608e-44c0-9118-b4c3df299b92",
   "metadata": {},
   "source": [
    "### Activation Functions"
   ]
  },
  {
   "cell_type": "code",
   "execution_count": 10,
   "id": "12494fed-d1fc-4cce-803d-259f94e772e6",
   "metadata": {},
   "outputs": [],
   "source": [
    "def sigmoid(x):\n",
    "    return 1 / (1 + np.exp(-x))"
   ]
  },
  {
   "cell_type": "markdown",
   "id": "37a5e589-5687-4779-af79-788786e2e983",
   "metadata": {},
   "source": [
    "- **Sigmoid Function:**\n",
    "  - Formula: $( f(x) = \\frac{1}{1 + e^{-x}} )$\n",
    "  - Output range: (0, 1)\n",
    "  - Used for binary classification."
   ]
  },
  {
   "cell_type": "code",
   "execution_count": 11,
   "id": "75d98032-ea4e-465b-a04f-32ada0023d95",
   "metadata": {},
   "outputs": [],
   "source": [
    "def relu(x):\n",
    "    return np.maximum(0, x)"
   ]
  },
  {
   "cell_type": "markdown",
   "id": "210339e3-35a5-4a13-9af3-a5b8d207e69f",
   "metadata": {},
   "source": [
    "- **ReLU (Rectified Linear Unit):**\n",
    "  - Formula: $( f(x) = \\max(0, x) )$\n",
    "  - Helps prevent vanishing gradients."
   ]
  },
  {
   "cell_type": "code",
   "execution_count": 13,
   "id": "33c22e02-4cb2-4057-ad4e-a1de0b12fbfd",
   "metadata": {},
   "outputs": [],
   "source": [
    "def tanh(x):\n",
    "    return np.tanh(x)"
   ]
  },
  {
   "cell_type": "markdown",
   "id": "8422b4e1-827b-430c-9d9b-d9e663127f0d",
   "metadata": {},
   "source": [
    "- **Tanh (Hyperbolic Tangent):**\n",
    "  - Formula: $( f(x) = \\tanh(x) = \\frac{e^x - e^{-x}}{e^x + e^{-x}} )$\n",
    "  - Output range: (-1, 1)\n",
    "  - Zero-centered output."
   ]
  },
  {
   "cell_type": "markdown",
   "id": "210ba8e8-3895-4abb-bc53-fd505c0ff5d3",
   "metadata": {},
   "source": [
    "### Defining the Neuron Class"
   ]
  },
  {
   "cell_type": "code",
   "execution_count": 20,
   "id": "a51ec4b6-1365-4285-8aa2-4f6afceb6ff1",
   "metadata": {},
   "outputs": [],
   "source": [
    "class Neuron:\n",
    "    def __init__(self, weights, bias):\n",
    "        self.weights = np.array(weights)\n",
    "        self.bias = bias\n",
    "        \n",
    "    def forward(self, inputs, activation='sigmoid'):\n",
    "        z = np.dot(self.weights, inputs) + self.bias\n",
    "\n",
    "        if activation == 'sigmoid':\n",
    "            return sigmoid(z)\n",
    "        elif activation == 'relu':\n",
    "            return relu(z)\n",
    "        elif activation == 'tanh':\n",
    "            return tanh(z)\n",
    "        else:\n",
    "            raise ValueError(\"Unsupported activation function\")"
   ]
  },
  {
   "cell_type": "markdown",
   "id": "eec2ee29-e3f0-40a4-8688-52758002e49b",
   "metadata": {},
   "source": [
    "- **Initialization:**\n",
    "  - We store `weights` and `bias` as class attributes."
   ]
  },
  {
   "cell_type": "markdown",
   "id": "c0ed7051-230e-4ec3-8d71-2ec492f7eccf",
   "metadata": {},
   "source": [
    "- **Forward Pass:**\n",
    "  - Computes the weighted sum of inputs plus the bias."
   ]
  },
  {
   "cell_type": "markdown",
   "id": "5f397e6a-ad58-495c-861c-1093f029f7d9",
   "metadata": {},
   "source": [
    "- **Activation Application:**\n",
    "  - Applies the specified activation function."
   ]
  },
  {
   "cell_type": "markdown",
   "id": "88791dfe-dbd3-4211-aa7a-a78d74219c2b",
   "metadata": {},
   "source": [
    "### Testing the Neuron"
   ]
  },
  {
   "cell_type": "code",
   "execution_count": 21,
   "id": "0f3492be-87b7-47e3-a764-25eb3867ef79",
   "metadata": {},
   "outputs": [],
   "source": [
    "inputs = np.array([0.5, -0.2, 0.1])\n",
    "neuron = Neuron(weights=[0.4, 0.3, 0.2], bias=0.1)"
   ]
  },
  {
   "cell_type": "markdown",
   "id": "3e040266-369e-4329-9e66-826ccc3fe6b9",
   "metadata": {},
   "source": [
    "- We define input values and initialize a neuron."
   ]
  },
  {
   "cell_type": "code",
   "execution_count": 22,
   "id": "63ff212a-4007-45fa-b717-37adc6b48781",
   "metadata": {},
   "outputs": [
    {
     "name": "stdout",
     "output_type": "stream",
     "text": [
      "Activation: sigmoid, Output: 0.5646\n",
      "Activation: relu, Output: 0.2600\n",
      "Activation: tanh, Output: 0.2543\n"
     ]
    }
   ],
   "source": [
    "for activation in ['sigmoid', 'relu', 'tanh']:\n",
    "    output = neuron.forward(inputs, activation)\n",
    "    print(f\"Activation: {activation}, Output: {output:.4f}\")"
   ]
  },
  {
   "cell_type": "markdown",
   "id": "7d633bc4-42ff-4f8c-a3a5-acc660da12a0",
   "metadata": {},
   "source": [
    "- We perform a forward pass with different activation functions and print the results."
   ]
  },
  {
   "cell_type": "markdown",
   "id": "ee6c1fd9-41ea-48d2-8bdf-82759f4d6d92",
   "metadata": {},
   "source": [
    "---"
   ]
  },
  {
   "cell_type": "markdown",
   "id": "2ca78a29-1c8f-481c-8eeb-8438ee1f32c3",
   "metadata": {},
   "source": [
    "## Visualization: Activation Function Outputs"
   ]
  },
  {
   "cell_type": "code",
   "execution_count": 19,
   "id": "8ce8deab-e201-437a-a4fc-997d958775ab",
   "metadata": {},
   "outputs": [
    {
     "data": {
      "image/png": "[encoded data removed]",
      "text/plain": [
       "<Figure size 1200x600 with 1 Axes>"
      ]
     },
     "metadata": {},
     "output_type": "display_data"
    }
   ],
   "source": [
    "# Visualizing Activation Functions Output\n",
    "x = np.linspace(-10, 10, 100)\n",
    "\n",
    "plt.figure(figsize=(12, 6))\n",
    "plt.plot(x, sigmoid(x), label='Sigmoid')\n",
    "plt.plot(x, relu(x), label='ReLU')\n",
    "plt.plot(x, tanh(x), label='Tanh')\n",
    "plt.title(\"Activation Functions Output\")\n",
    "plt.xlabel(\"Input (x)\")\n",
    "plt.ylabel(\"Output (f(x))\")\n",
    "plt.legend()\n",
    "plt.grid(True)\n",
    "plt.show()"
   ]
  },
  {
   "cell_type": "markdown",
   "id": "27918219-ddec-4aed-9f3c-6ff582ea9de1",
   "metadata": {},
   "source": [
    "- This section generates visual representations of each activation function."
   ]
  },
  {
   "cell_type": "markdown",
   "id": "19a4806b-c206-4011-bc94-1a46e4158e33",
   "metadata": {},
   "source": [
    "---"
   ]
  },
  {
   "cell_type": "code",
   "execution_count": null,
   "id": "68664110-ef1d-4c7d-9b48-99be91cd94c9",
   "metadata": {},
   "outputs": [],
   "source": []
  }
 ],
 "metadata": {
  "kernelspec": {
   "display_name": "Python 3 (ipykernel)",
   "language": "python",
   "name": "python3"
  },
  "language_info": {
   "codemirror_mode": {
    "name": "ipython",
    "version": 3
   },
   "file_extension": ".py",
   "mimetype": "text/x-python",
   "name": "python",
   "nbconvert_exporter": "python",
   "pygments_lexer": "ipython3",
   "version": "3.12.4"
  }
 },
 "nbformat": 4,
 "nbformat_minor": 5
}
